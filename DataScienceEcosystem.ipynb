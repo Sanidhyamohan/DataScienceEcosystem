{
 "cells": [
  {
   "cell_type": "markdown",
   "id": "d22bac13-064c-455f-9149-d4f4998b7ffe",
   "metadata": {},
   "source": [
    "# Data Science Tools and Ecosystem"
   ]
  },
  {
   "cell_type": "markdown",
   "id": "198ee0e5-ce4a-4030-903b-d9eaafa1f937",
   "metadata": {},
   "source": [
    "In this Notebook, Data Science Tools and Ecosystem are summarized"
   ]
  },
  {
   "cell_type": "markdown",
   "id": "1f70fc99-3901-4e69-9d33-b254ec9a3f6e",
   "metadata": {},
   "source": [
    "Some of the popular languages that Data Scientists use are:\n",
    "1. Python\n",
    "2. R\n",
    "3. SQL\n",
    "4. C++\n",
    "5. Java etc..."
   ]
  },
  {
   "cell_type": "markdown",
   "id": "e64eb9a6-7534-4f4c-925d-48a9e1282f25",
   "metadata": {},
   "source": [
    "Some commonly used Data Science Libraries are:\n",
    "1. TensorFlow\n",
    "2. NumPy.\n",
    "3. SciPy.\n",
    "4. Pandas.\n",
    "5. Matplotlib.\n",
    "6. Keras.\n",
    "7. SciKit-Learn.\n",
    "8. PyTorch. etc...;"
   ]
  },
  {
   "cell_type": "markdown",
   "id": "62ee7e15-7d72-4f40-ab39-10d773505913",
   "metadata": {},
   "source": [
    "|Data Science Tools|\n",
    "|---|\n",
    "|SAS|\n",
    "|Apache Hadoop|\n",
    "|TensorFlow|"
   ]
  },
  {
   "cell_type": "markdown",
   "id": "a83681c5-6108-4bea-9997-2a330d0f498f",
   "metadata": {},
   "source": [
    "### Few Examples of evaluating arithmetic expressions in Python"
   ]
  },
  {
   "cell_type": "code",
   "execution_count": 1,
   "id": "71df0c02-372a-4242-a599-a8e468af132d",
   "metadata": {
    "tags": []
   },
   "outputs": [
    {
     "data": {
      "text/plain": [
       "17"
      ]
     },
     "execution_count": 1,
     "metadata": {},
     "output_type": "execute_result"
    }
   ],
   "source": [
    "#this is a common example to multiply and then add integers\n",
    "(3*4)+5"
   ]
  },
  {
   "cell_type": "code",
   "execution_count": 2,
   "id": "113f99c7-c514-4e6f-ae72-88d9ac8e5c2c",
   "metadata": {
    "tags": []
   },
   "outputs": [
    {
     "data": {
      "text/plain": [
       "3.3333333333333335"
      ]
     },
     "execution_count": 2,
     "metadata": {},
     "output_type": "execute_result"
    }
   ],
   "source": [
    "#this will convert 200 minutes to hours by dividing by 60\n",
    "200/60"
   ]
  },
  {
   "cell_type": "markdown",
   "id": "8f048b56-8bee-40b2-92c8-652c8d843001",
   "metadata": {},
   "source": [
    "__Objective__\n",
    "* List popular languages for Data Science\n",
    "* List popular libraries for Data Science\n",
    "* list of well known Data Science Tools\n",
    "* How to provide comments in a cell"
   ]
  },
  {
   "cell_type": "markdown",
   "id": "45da7cd3-c97b-4059-ad8e-9282425bd918",
   "metadata": {},
   "source": [
    "## AUTHOR\n",
    "Sanidhya Mohan"
   ]
  }
 ],
 "metadata": {
  "kernelspec": {
   "display_name": "Python",
   "language": "python",
   "name": "conda-env-python-py"
  },
  "language_info": {
   "codemirror_mode": {
    "name": "ipython",
    "version": 3
   },
   "file_extension": ".py",
   "mimetype": "text/x-python",
   "name": "python",
   "nbconvert_exporter": "python",
   "pygments_lexer": "ipython3",
   "version": "3.7.12"
  }
 },
 "nbformat": 4,
 "nbformat_minor": 5
}
